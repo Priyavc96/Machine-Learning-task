{
 "cells": [
  {
   "cell_type": "code",
   "execution_count": 1,
   "metadata": {},
   "outputs": [],
   "source": [
    "import pandas as pd \n",
    "import numpy as np\n",
    "import matplotlib.pyplot as plt \n"
   ]
  },
  {
   "cell_type": "code",
   "execution_count": 2,
   "metadata": {},
   "outputs": [],
   "source": [
    "nifty_50_data=pd.read_csv(\"nifty_50_data.csv\")"
   ]
  },
  {
   "cell_type": "code",
   "execution_count": 3,
   "metadata": {},
   "outputs": [
    {
     "data": {
      "text/plain": [
       "(1337, 7)"
      ]
     },
     "execution_count": 3,
     "metadata": {},
     "output_type": "execute_result"
    }
   ],
   "source": [
    "nifty_50_data.shape"
   ]
  },
  {
   "cell_type": "code",
   "execution_count": 4,
   "metadata": {},
   "outputs": [
    {
     "data": {
      "text/plain": [
       "Index(['Date', 'Open', 'High', 'Low', 'Close', 'Shares Traded',\n",
       "       'Turnover (Rs. Cr)'],\n",
       "      dtype='object')"
      ]
     },
     "execution_count": 4,
     "metadata": {},
     "output_type": "execute_result"
    }
   ],
   "source": [
    "nifty_50_data.columns"
   ]
  },
  {
   "cell_type": "code",
   "execution_count": 5,
   "metadata": {},
   "outputs": [
    {
     "data": {
      "text/html": [
       "<div>\n",
       "<style scoped>\n",
       "    .dataframe tbody tr th:only-of-type {\n",
       "        vertical-align: middle;\n",
       "    }\n",
       "\n",
       "    .dataframe tbody tr th {\n",
       "        vertical-align: top;\n",
       "    }\n",
       "\n",
       "    .dataframe thead th {\n",
       "        text-align: right;\n",
       "    }\n",
       "</style>\n",
       "<table border=\"1\" class=\"dataframe\">\n",
       "  <thead>\n",
       "    <tr style=\"text-align: right;\">\n",
       "      <th></th>\n",
       "      <th>Date</th>\n",
       "      <th>Open</th>\n",
       "      <th>High</th>\n",
       "      <th>Low</th>\n",
       "      <th>Close</th>\n",
       "      <th>Shares Traded</th>\n",
       "      <th>Turnover (Rs. Cr)</th>\n",
       "    </tr>\n",
       "  </thead>\n",
       "  <tbody>\n",
       "    <tr>\n",
       "      <th>0</th>\n",
       "      <td>01-Jan-16</td>\n",
       "      <td>7938.45</td>\n",
       "      <td>7972.55</td>\n",
       "      <td>7909.80</td>\n",
       "      <td>7963.20</td>\n",
       "      <td>64843836</td>\n",
       "      <td>2613.91</td>\n",
       "    </tr>\n",
       "    <tr>\n",
       "      <th>1</th>\n",
       "      <td>04-Jan-16</td>\n",
       "      <td>7924.55</td>\n",
       "      <td>7937.55</td>\n",
       "      <td>7781.10</td>\n",
       "      <td>7791.30</td>\n",
       "      <td>138864905</td>\n",
       "      <td>5897.08</td>\n",
       "    </tr>\n",
       "    <tr>\n",
       "      <th>2</th>\n",
       "      <td>05-Jan-16</td>\n",
       "      <td>7828.40</td>\n",
       "      <td>7831.20</td>\n",
       "      <td>7763.25</td>\n",
       "      <td>7784.65</td>\n",
       "      <td>149672973</td>\n",
       "      <td>5948.51</td>\n",
       "    </tr>\n",
       "    <tr>\n",
       "      <th>3</th>\n",
       "      <td>06-Jan-16</td>\n",
       "      <td>7788.05</td>\n",
       "      <td>7800.95</td>\n",
       "      <td>7721.20</td>\n",
       "      <td>7741.00</td>\n",
       "      <td>151715828</td>\n",
       "      <td>6722.17</td>\n",
       "    </tr>\n",
       "    <tr>\n",
       "      <th>4</th>\n",
       "      <td>07-Jan-16</td>\n",
       "      <td>7673.35</td>\n",
       "      <td>7674.95</td>\n",
       "      <td>7556.60</td>\n",
       "      <td>7568.30</td>\n",
       "      <td>194732861</td>\n",
       "      <td>7803.21</td>\n",
       "    </tr>\n",
       "  </tbody>\n",
       "</table>\n",
       "</div>"
      ],
      "text/plain": [
       "        Date     Open     High      Low    Close  Shares Traded  \\\n",
       "0  01-Jan-16  7938.45  7972.55  7909.80  7963.20       64843836   \n",
       "1  04-Jan-16  7924.55  7937.55  7781.10  7791.30      138864905   \n",
       "2  05-Jan-16  7828.40  7831.20  7763.25  7784.65      149672973   \n",
       "3  06-Jan-16  7788.05  7800.95  7721.20  7741.00      151715828   \n",
       "4  07-Jan-16  7673.35  7674.95  7556.60  7568.30      194732861   \n",
       "\n",
       "   Turnover (Rs. Cr)  \n",
       "0            2613.91  \n",
       "1            5897.08  \n",
       "2            5948.51  \n",
       "3            6722.17  \n",
       "4            7803.21  "
      ]
     },
     "execution_count": 5,
     "metadata": {},
     "output_type": "execute_result"
    }
   ],
   "source": [
    "nifty_50_data.head()"
   ]
  },
  {
   "cell_type": "code",
   "execution_count": 6,
   "metadata": {},
   "outputs": [
    {
     "data": {
      "text/html": [
       "<div>\n",
       "<style scoped>\n",
       "    .dataframe tbody tr th:only-of-type {\n",
       "        vertical-align: middle;\n",
       "    }\n",
       "\n",
       "    .dataframe tbody tr th {\n",
       "        vertical-align: top;\n",
       "    }\n",
       "\n",
       "    .dataframe thead th {\n",
       "        text-align: right;\n",
       "    }\n",
       "</style>\n",
       "<table border=\"1\" class=\"dataframe\">\n",
       "  <thead>\n",
       "    <tr style=\"text-align: right;\">\n",
       "      <th></th>\n",
       "      <th>Date</th>\n",
       "      <th>Open</th>\n",
       "      <th>High</th>\n",
       "      <th>Low</th>\n",
       "      <th>Close</th>\n",
       "      <th>Shares Traded</th>\n",
       "      <th>Turnover (Rs. Cr)</th>\n",
       "    </tr>\n",
       "  </thead>\n",
       "  <tbody>\n",
       "    <tr>\n",
       "      <th>1332</th>\n",
       "      <td>24-May-21</td>\n",
       "      <td>15211.35</td>\n",
       "      <td>15256.25</td>\n",
       "      <td>15145.45</td>\n",
       "      <td>15197.70</td>\n",
       "      <td>566722866</td>\n",
       "      <td>32061.04</td>\n",
       "    </tr>\n",
       "    <tr>\n",
       "      <th>1333</th>\n",
       "      <td>25-May-21</td>\n",
       "      <td>15291.75</td>\n",
       "      <td>15293.85</td>\n",
       "      <td>15163.40</td>\n",
       "      <td>15208.45</td>\n",
       "      <td>417323446</td>\n",
       "      <td>26871.99</td>\n",
       "    </tr>\n",
       "    <tr>\n",
       "      <th>1334</th>\n",
       "      <td>26-May-21</td>\n",
       "      <td>15257.05</td>\n",
       "      <td>15319.90</td>\n",
       "      <td>15194.95</td>\n",
       "      <td>15301.45</td>\n",
       "      <td>377682051</td>\n",
       "      <td>26187.83</td>\n",
       "    </tr>\n",
       "    <tr>\n",
       "      <th>1335</th>\n",
       "      <td>27-May-21</td>\n",
       "      <td>15323.95</td>\n",
       "      <td>15384.55</td>\n",
       "      <td>15272.50</td>\n",
       "      <td>15337.85</td>\n",
       "      <td>682374351</td>\n",
       "      <td>48219.93</td>\n",
       "    </tr>\n",
       "    <tr>\n",
       "      <th>1336</th>\n",
       "      <td>28-May-21</td>\n",
       "      <td>15421.20</td>\n",
       "      <td>15469.65</td>\n",
       "      <td>15394.75</td>\n",
       "      <td>15435.65</td>\n",
       "      <td>455582440</td>\n",
       "      <td>32992.08</td>\n",
       "    </tr>\n",
       "  </tbody>\n",
       "</table>\n",
       "</div>"
      ],
      "text/plain": [
       "           Date      Open      High       Low     Close  Shares Traded  \\\n",
       "1332  24-May-21  15211.35  15256.25  15145.45  15197.70      566722866   \n",
       "1333  25-May-21  15291.75  15293.85  15163.40  15208.45      417323446   \n",
       "1334  26-May-21  15257.05  15319.90  15194.95  15301.45      377682051   \n",
       "1335  27-May-21  15323.95  15384.55  15272.50  15337.85      682374351   \n",
       "1336  28-May-21  15421.20  15469.65  15394.75  15435.65      455582440   \n",
       "\n",
       "      Turnover (Rs. Cr)  \n",
       "1332           32061.04  \n",
       "1333           26871.99  \n",
       "1334           26187.83  \n",
       "1335           48219.93  \n",
       "1336           32992.08  "
      ]
     },
     "execution_count": 6,
     "metadata": {},
     "output_type": "execute_result"
    }
   ],
   "source": [
    "nifty_50_data.tail()"
   ]
  },
  {
   "cell_type": "code",
   "execution_count": 7,
   "metadata": {},
   "outputs": [],
   "source": [
    "nifty_50_data.drop('Date',axis =1,inplace= True)"
   ]
  },
  {
   "cell_type": "code",
   "execution_count": 8,
   "metadata": {
    "scrolled": true
   },
   "outputs": [
    {
     "data": {
      "text/html": [
       "<div>\n",
       "<style scoped>\n",
       "    .dataframe tbody tr th:only-of-type {\n",
       "        vertical-align: middle;\n",
       "    }\n",
       "\n",
       "    .dataframe tbody tr th {\n",
       "        vertical-align: top;\n",
       "    }\n",
       "\n",
       "    .dataframe thead th {\n",
       "        text-align: right;\n",
       "    }\n",
       "</style>\n",
       "<table border=\"1\" class=\"dataframe\">\n",
       "  <thead>\n",
       "    <tr style=\"text-align: right;\">\n",
       "      <th></th>\n",
       "      <th>Open</th>\n",
       "      <th>High</th>\n",
       "      <th>Low</th>\n",
       "      <th>Close</th>\n",
       "      <th>Shares Traded</th>\n",
       "      <th>Turnover (Rs. Cr)</th>\n",
       "    </tr>\n",
       "  </thead>\n",
       "  <tbody>\n",
       "    <tr>\n",
       "      <th>count</th>\n",
       "      <td>1337.000000</td>\n",
       "      <td>1337.000000</td>\n",
       "      <td>1337.000000</td>\n",
       "      <td>1337.000000</td>\n",
       "      <td>1.337000e+03</td>\n",
       "      <td>1337.000000</td>\n",
       "    </tr>\n",
       "    <tr>\n",
       "      <th>mean</th>\n",
       "      <td>10551.217801</td>\n",
       "      <td>10601.792147</td>\n",
       "      <td>10478.865146</td>\n",
       "      <td>10541.079955</td>\n",
       "      <td>3.821585e+08</td>\n",
       "      <td>18102.545879</td>\n",
       "    </tr>\n",
       "    <tr>\n",
       "      <th>std</th>\n",
       "      <td>1837.120976</td>\n",
       "      <td>1843.148873</td>\n",
       "      <td>1822.883069</td>\n",
       "      <td>1834.139134</td>\n",
       "      <td>2.305726e+08</td>\n",
       "      <td>10659.000293</td>\n",
       "    </tr>\n",
       "    <tr>\n",
       "      <th>min</th>\n",
       "      <td>7023.650000</td>\n",
       "      <td>7034.200000</td>\n",
       "      <td>6825.800000</td>\n",
       "      <td>6970.600000</td>\n",
       "      <td>1.661087e+07</td>\n",
       "      <td>805.890000</td>\n",
       "    </tr>\n",
       "    <tr>\n",
       "      <th>25%</th>\n",
       "      <td>9142.600000</td>\n",
       "      <td>9183.150000</td>\n",
       "      <td>9088.750000</td>\n",
       "      <td>9136.850000</td>\n",
       "      <td>1.995594e+08</td>\n",
       "      <td>9698.550000</td>\n",
       "    </tr>\n",
       "    <tr>\n",
       "      <th>50%</th>\n",
       "      <td>10614.700000</td>\n",
       "      <td>10648.700000</td>\n",
       "      <td>10557.700000</td>\n",
       "      <td>10601.150000</td>\n",
       "      <td>2.988763e+08</td>\n",
       "      <td>14762.070000</td>\n",
       "    </tr>\n",
       "    <tr>\n",
       "      <th>75%</th>\n",
       "      <td>11564.850000</td>\n",
       "      <td>11599.100000</td>\n",
       "      <td>11490.750000</td>\n",
       "      <td>11552.500000</td>\n",
       "      <td>5.342895e+08</td>\n",
       "      <td>24204.550000</td>\n",
       "    </tr>\n",
       "    <tr>\n",
       "      <th>max</th>\n",
       "      <td>15421.200000</td>\n",
       "      <td>15469.650000</td>\n",
       "      <td>15394.750000</td>\n",
       "      <td>15435.650000</td>\n",
       "      <td>1.811564e+09</td>\n",
       "      <td>78522.930000</td>\n",
       "    </tr>\n",
       "  </tbody>\n",
       "</table>\n",
       "</div>"
      ],
      "text/plain": [
       "               Open          High           Low         Close  Shares Traded  \\\n",
       "count   1337.000000   1337.000000   1337.000000   1337.000000   1.337000e+03   \n",
       "mean   10551.217801  10601.792147  10478.865146  10541.079955   3.821585e+08   \n",
       "std     1837.120976   1843.148873   1822.883069   1834.139134   2.305726e+08   \n",
       "min     7023.650000   7034.200000   6825.800000   6970.600000   1.661087e+07   \n",
       "25%     9142.600000   9183.150000   9088.750000   9136.850000   1.995594e+08   \n",
       "50%    10614.700000  10648.700000  10557.700000  10601.150000   2.988763e+08   \n",
       "75%    11564.850000  11599.100000  11490.750000  11552.500000   5.342895e+08   \n",
       "max    15421.200000  15469.650000  15394.750000  15435.650000   1.811564e+09   \n",
       "\n",
       "       Turnover (Rs. Cr)  \n",
       "count        1337.000000  \n",
       "mean        18102.545879  \n",
       "std         10659.000293  \n",
       "min           805.890000  \n",
       "25%          9698.550000  \n",
       "50%         14762.070000  \n",
       "75%         24204.550000  \n",
       "max         78522.930000  "
      ]
     },
     "execution_count": 8,
     "metadata": {},
     "output_type": "execute_result"
    }
   ],
   "source": [
    "nifty_50_data.describe()"
   ]
  },
  {
   "cell_type": "code",
   "execution_count": 9,
   "metadata": {},
   "outputs": [
    {
     "data": {
      "text/plain": [
       "Open                 0\n",
       "High                 0\n",
       "Low                  0\n",
       "Close                0\n",
       "Shares Traded        0\n",
       "Turnover (Rs. Cr)    0\n",
       "dtype: int64"
      ]
     },
     "execution_count": 9,
     "metadata": {},
     "output_type": "execute_result"
    }
   ],
   "source": [
    "#check for missing values\n",
    "nifty_50_data.isnull().sum()"
   ]
  },
  {
   "cell_type": "code",
   "execution_count": 10,
   "metadata": {},
   "outputs": [
    {
     "data": {
      "text/plain": [
       "Open                 float64\n",
       "High                 float64\n",
       "Low                  float64\n",
       "Close                float64\n",
       "Shares Traded          int64\n",
       "Turnover (Rs. Cr)    float64\n",
       "dtype: object"
      ]
     },
     "execution_count": 10,
     "metadata": {},
     "output_type": "execute_result"
    }
   ],
   "source": [
    "#check for categorical variables\n",
    "nifty_50_data.dtypes"
   ]
  },
  {
   "cell_type": "code",
   "execution_count": 11,
   "metadata": {},
   "outputs": [
    {
     "data": {
      "text/html": [
       "<div>\n",
       "<style scoped>\n",
       "    .dataframe tbody tr th:only-of-type {\n",
       "        vertical-align: middle;\n",
       "    }\n",
       "\n",
       "    .dataframe tbody tr th {\n",
       "        vertical-align: top;\n",
       "    }\n",
       "\n",
       "    .dataframe thead th {\n",
       "        text-align: right;\n",
       "    }\n",
       "</style>\n",
       "<table border=\"1\" class=\"dataframe\">\n",
       "  <thead>\n",
       "    <tr style=\"text-align: right;\">\n",
       "      <th></th>\n",
       "      <th>Open</th>\n",
       "      <th>High</th>\n",
       "      <th>Low</th>\n",
       "      <th>Close</th>\n",
       "      <th>Shares Traded</th>\n",
       "      <th>Turnover (Rs. Cr)</th>\n",
       "    </tr>\n",
       "  </thead>\n",
       "  <tbody>\n",
       "    <tr>\n",
       "      <th>Open</th>\n",
       "      <td>1.000000</td>\n",
       "      <td>0.999333</td>\n",
       "      <td>0.999202</td>\n",
       "      <td>0.998601</td>\n",
       "      <td>0.480012</td>\n",
       "      <td>0.645532</td>\n",
       "    </tr>\n",
       "    <tr>\n",
       "      <th>High</th>\n",
       "      <td>0.999333</td>\n",
       "      <td>1.000000</td>\n",
       "      <td>0.998716</td>\n",
       "      <td>0.999330</td>\n",
       "      <td>0.491313</td>\n",
       "      <td>0.655983</td>\n",
       "    </tr>\n",
       "    <tr>\n",
       "      <th>Low</th>\n",
       "      <td>0.999202</td>\n",
       "      <td>0.998716</td>\n",
       "      <td>1.000000</td>\n",
       "      <td>0.999235</td>\n",
       "      <td>0.465930</td>\n",
       "      <td>0.634085</td>\n",
       "    </tr>\n",
       "    <tr>\n",
       "      <th>Close</th>\n",
       "      <td>0.998601</td>\n",
       "      <td>0.999330</td>\n",
       "      <td>0.999235</td>\n",
       "      <td>1.000000</td>\n",
       "      <td>0.478689</td>\n",
       "      <td>0.645668</td>\n",
       "    </tr>\n",
       "    <tr>\n",
       "      <th>Shares Traded</th>\n",
       "      <td>0.480012</td>\n",
       "      <td>0.491313</td>\n",
       "      <td>0.465930</td>\n",
       "      <td>0.478689</td>\n",
       "      <td>1.000000</td>\n",
       "      <td>0.862288</td>\n",
       "    </tr>\n",
       "    <tr>\n",
       "      <th>Turnover (Rs. Cr)</th>\n",
       "      <td>0.645532</td>\n",
       "      <td>0.655983</td>\n",
       "      <td>0.634085</td>\n",
       "      <td>0.645668</td>\n",
       "      <td>0.862288</td>\n",
       "      <td>1.000000</td>\n",
       "    </tr>\n",
       "  </tbody>\n",
       "</table>\n",
       "</div>"
      ],
      "text/plain": [
       "                       Open      High       Low     Close  Shares Traded  \\\n",
       "Open               1.000000  0.999333  0.999202  0.998601       0.480012   \n",
       "High               0.999333  1.000000  0.998716  0.999330       0.491313   \n",
       "Low                0.999202  0.998716  1.000000  0.999235       0.465930   \n",
       "Close              0.998601  0.999330  0.999235  1.000000       0.478689   \n",
       "Shares Traded      0.480012  0.491313  0.465930  0.478689       1.000000   \n",
       "Turnover (Rs. Cr)  0.645532  0.655983  0.634085  0.645668       0.862288   \n",
       "\n",
       "                   Turnover (Rs. Cr)  \n",
       "Open                        0.645532  \n",
       "High                        0.655983  \n",
       "Low                         0.634085  \n",
       "Close                       0.645668  \n",
       "Shares Traded               0.862288  \n",
       "Turnover (Rs. Cr)           1.000000  "
      ]
     },
     "execution_count": 11,
     "metadata": {},
     "output_type": "execute_result"
    }
   ],
   "source": [
    "#checking the correlation\n",
    "nifty_50_data.corr()"
   ]
  },
  {
   "cell_type": "code",
   "execution_count": 12,
   "metadata": {},
   "outputs": [],
   "source": [
    "#split X and y\n",
    "X = nifty_50_data.iloc[:,:-1].values\n",
    "y = nifty_50_data.iloc[:,-1].values"
   ]
  },
  {
   "cell_type": "code",
   "execution_count": 13,
   "metadata": {},
   "outputs": [
    {
     "data": {
      "text/plain": [
       "(1337, 5)"
      ]
     },
     "execution_count": 13,
     "metadata": {},
     "output_type": "execute_result"
    }
   ],
   "source": [
    "X.shape\n"
   ]
  },
  {
   "cell_type": "code",
   "execution_count": 14,
   "metadata": {},
   "outputs": [
    {
     "data": {
      "text/plain": [
       "(1337,)"
      ]
     },
     "execution_count": 14,
     "metadata": {},
     "output_type": "execute_result"
    }
   ],
   "source": [
    "y.shape\n"
   ]
  },
  {
   "cell_type": "code",
   "execution_count": 15,
   "metadata": {},
   "outputs": [],
   "source": [
    "y = y.reshape(-1,1)\n"
   ]
  },
  {
   "cell_type": "code",
   "execution_count": 16,
   "metadata": {},
   "outputs": [],
   "source": [
    "from sklearn.preprocessing import StandardScaler\n",
    "sc = StandardScaler()\n",
    "X = sc.fit_transform(X)"
   ]
  },
  {
   "cell_type": "code",
   "execution_count": 17,
   "metadata": {},
   "outputs": [],
   "source": [
    "#splitting into train and test\n",
    "from sklearn.model_selection import train_test_split\n",
    "X_train,X_test,y_train,y_test = train_test_split(X,y,test_size = 0.2,random_state = 0)"
   ]
  },
  {
   "cell_type": "code",
   "execution_count": 18,
   "metadata": {},
   "outputs": [],
   "source": [
    "#importing the model and metrics\n",
    "from sklearn.neighbors import KNeighborsRegressor\n",
    "from sklearn.metrics import mean_squared_error,r2_score"
   ]
  },
  {
   "cell_type": "code",
   "execution_count": 19,
   "metadata": {},
   "outputs": [],
   "source": [
    "mse = []\n",
    "r2 = []\n",
    "for i in range(1,10):\n",
    "    model = KNeighborsRegressor(n_neighbors=i)\n",
    "    model.fit(X_train,y_train)\n",
    "    y_pred = model.predict(X_test)\n",
    "    mse_i = mean_squared_error(y_test,y_pred)\n",
    "    mse.append(mse_i)\n",
    "    r2_i = r2_score(y_test,y_pred)\n",
    "    r2.append(r2_i)\n",
    "#     print('i = {}, mse = {} , r2 = {}'.format(i,mse_i,r2_i))"
   ]
  },
  {
   "cell_type": "code",
   "execution_count": 20,
   "metadata": {},
   "outputs": [
    {
     "data": {
      "image/png": "[encoded data removed]",
      "text/plain": [
       "<Figure size 576x576 with 1 Axes>"
      ]
     },
     "metadata": {
      "needs_background": "light"
     },
     "output_type": "display_data"
    }
   ],
   "source": [
    "plt.figure(figsize = (8,8))\n",
    "plt.plot(np.arange(1,10),mse,'r')\n",
    "plt.xlabel('k-value')\n",
    "plt.ylabel('mean-squared-error')\n",
    "plt.title('Selecting k-value')\n",
    "plt.show()"
   ]
  },
  {
   "cell_type": "markdown",
   "metadata": {},
   "source": [
    "We can see from the model that we have lowest mse for the k value 5 "
   ]
  },
  {
   "cell_type": "code",
   "execution_count": 21,
   "metadata": {},
   "outputs": [],
   "source": [
    "#Modell bulding\n",
    "model = KNeighborsRegressor(n_neighbors=5)\n",
    "model.fit(X_train,y_train)\n",
    "y_pred = model.predict(X_test)"
   ]
  },
  {
   "cell_type": "code",
   "execution_count": 22,
   "metadata": {},
   "outputs": [
    {
     "data": {
      "text/plain": [
       "0.8866893160241645"
      ]
     },
     "execution_count": 22,
     "metadata": {},
     "output_type": "execute_result"
    }
   ],
   "source": [
    "#Model Evaluation\n",
    "r2_score(y_test,y_pred)\n"
   ]
  },
  {
   "cell_type": "code",
   "execution_count": null,
   "metadata": {},
   "outputs": [],
   "source": []
  }
 ],
 "metadata": {
  "kernelspec": {
   "display_name": "Python 3",
   "language": "python",
   "name": "python3"
  },
  "language_info": {
   "codemirror_mode": {
    "name": "ipython",
    "version": 3
   },
   "file_extension": ".py",
   "mimetype": "text/x-python",
   "name": "python",
   "nbconvert_exporter": "python",
   "pygments_lexer": "ipython3",
   "version": "3.7.6"
  }
 },
 "nbformat": 4,
 "nbformat_minor": 4
}
